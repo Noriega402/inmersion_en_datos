{
  "nbformat": 4,
  "nbformat_minor": 0,
  "metadata": {
    "colab": {
      "provenance": [],
      "authorship_tag": "ABX9TyMuK5dJ8D9QFDBaRdr7o2E8",
      "include_colab_link": true
    },
    "kernelspec": {
      "name": "python3",
      "display_name": "Python 3"
    },
    "language_info": {
      "name": "python"
    }
  },
  "cells": [
    {
      "cell_type": "markdown",
      "metadata": {
        "id": "view-in-github",
        "colab_type": "text"
      },
      "source": [
        "<a href=\"https://colab.research.google.com/github/Noriega402/inmersion_en_datos/blob/main/inmersion_en_datos_aula_1.ipynb\" target=\"_parent\"><img src=\"https://colab.research.google.com/assets/colab-badge.svg\" alt=\"Open In Colab\"/></a>"
      ]
    },
    {
      "cell_type": "markdown",
      "source": [
        "# Primeros pasos con inmersion de datos"
      ],
      "metadata": {
        "id": "QqAq318QswfF"
      }
    },
    {
      "cell_type": "markdown",
      "source": [
        "1. Montamos nuestra carpeta de drive"
      ],
      "metadata": {
        "id": "7bifP-7hvSi-"
      }
    },
    {
      "cell_type": "code",
      "source": [
        "from google.colab import drive #importar mi cuenta de drive\n",
        "\n",
        "drive.mount('/content/drive')"
      ],
      "metadata": {
        "colab": {
          "base_uri": "https://localhost:8080/"
        },
        "id": "3ScN_d_vrdo8",
        "outputId": "68f69d29-3f6b-4d39-f6fb-338754c3ebc4"
      },
      "execution_count": 60,
      "outputs": [
        {
          "output_type": "stream",
          "name": "stdout",
          "text": [
            "Drive already mounted at /content/drive; to attempt to forcibly remount, call drive.mount(\"/content/drive\", force_remount=True).\n"
          ]
        }
      ]
    },
    {
      "cell_type": "markdown",
      "source": [
        "2. Leemos las primeras lineas del archivo .csv"
      ],
      "metadata": {
        "id": "wQRH6l9vw7u6"
      }
    },
    {
      "cell_type": "code",
      "source": [
        "import pandas as pd # importando libreria pandas\n",
        "\n",
        "datos = pd.read_csv('/content/drive/MyDrive/inmersion_datos/inmuebles.csv') # leer nuestro archivo .csv\n",
        "datos.head()"
      ],
      "metadata": {
        "colab": {
          "base_uri": "https://localhost:8080/",
          "height": 206
        },
        "id": "zdmwiUabvWHz",
        "outputId": "eb3dd96c-d53a-4445-8929-71d2da35bb6d"
      },
      "execution_count": 61,
      "outputs": [
        {
          "output_type": "execute_result",
          "data": {
            "text/plain": [
              "          Tipo                                 Descripcion  \\\n",
              "0  Apartamento  Apartamento en venta en Zona Noroccidental   \n",
              "1         Casa                   Casa en venta en Castilla   \n",
              "2  Apartamento     Apartamento en venta en Chico Reservado   \n",
              "3  Apartamento             Apartamento en venta en Usaquén   \n",
              "4  Apartamento         Apartamento en venta en Bella Suiza   \n",
              "\n",
              "                                        Localizacion  \\\n",
              "0       Zona Noroccidental, Bogotá D.C, Cundinamarca   \n",
              "1  Castilla, Kennedy, Zona Suroccidental, Bogotá ...   \n",
              "2  Chico Reservado, Chapinero, Zona Chapinero, Bo...   \n",
              "3      Usaquén, Zona Norte, Bogotá D.C, Cundinamarca   \n",
              "4  Bella Suiza, Usaquén, Zona Norte, Bogotá D.C, ...   \n",
              "\n",
              "                           Atributos       Valor  \n",
              "0         3 habitaciones2 baños70 m²   360000000  \n",
              "1        4 habitaciones3 baños170 m²   670000000  \n",
              "2  3 habitaciones3 baños144 / 144 m²  1120000000  \n",
              "3  3 habitaciones2 baños154 / 134 m²   890000000  \n",
              "4        2 habitaciones3 baños128 m²   970000000  "
            ],
            "text/html": [
              "\n",
              "  <div id=\"df-f0736463-95f6-449a-881d-45522d45d919\">\n",
              "    <div class=\"colab-df-container\">\n",
              "      <div>\n",
              "<style scoped>\n",
              "    .dataframe tbody tr th:only-of-type {\n",
              "        vertical-align: middle;\n",
              "    }\n",
              "\n",
              "    .dataframe tbody tr th {\n",
              "        vertical-align: top;\n",
              "    }\n",
              "\n",
              "    .dataframe thead th {\n",
              "        text-align: right;\n",
              "    }\n",
              "</style>\n",
              "<table border=\"1\" class=\"dataframe\">\n",
              "  <thead>\n",
              "    <tr style=\"text-align: right;\">\n",
              "      <th></th>\n",
              "      <th>Tipo</th>\n",
              "      <th>Descripcion</th>\n",
              "      <th>Localizacion</th>\n",
              "      <th>Atributos</th>\n",
              "      <th>Valor</th>\n",
              "    </tr>\n",
              "  </thead>\n",
              "  <tbody>\n",
              "    <tr>\n",
              "      <th>0</th>\n",
              "      <td>Apartamento</td>\n",
              "      <td>Apartamento en venta en Zona Noroccidental</td>\n",
              "      <td>Zona Noroccidental, Bogotá D.C, Cundinamarca</td>\n",
              "      <td>3 habitaciones2 baños70 m²</td>\n",
              "      <td>360000000</td>\n",
              "    </tr>\n",
              "    <tr>\n",
              "      <th>1</th>\n",
              "      <td>Casa</td>\n",
              "      <td>Casa en venta en Castilla</td>\n",
              "      <td>Castilla, Kennedy, Zona Suroccidental, Bogotá ...</td>\n",
              "      <td>4 habitaciones3 baños170 m²</td>\n",
              "      <td>670000000</td>\n",
              "    </tr>\n",
              "    <tr>\n",
              "      <th>2</th>\n",
              "      <td>Apartamento</td>\n",
              "      <td>Apartamento en venta en Chico Reservado</td>\n",
              "      <td>Chico Reservado, Chapinero, Zona Chapinero, Bo...</td>\n",
              "      <td>3 habitaciones3 baños144 / 144 m²</td>\n",
              "      <td>1120000000</td>\n",
              "    </tr>\n",
              "    <tr>\n",
              "      <th>3</th>\n",
              "      <td>Apartamento</td>\n",
              "      <td>Apartamento en venta en Usaquén</td>\n",
              "      <td>Usaquén, Zona Norte, Bogotá D.C, Cundinamarca</td>\n",
              "      <td>3 habitaciones2 baños154 / 134 m²</td>\n",
              "      <td>890000000</td>\n",
              "    </tr>\n",
              "    <tr>\n",
              "      <th>4</th>\n",
              "      <td>Apartamento</td>\n",
              "      <td>Apartamento en venta en Bella Suiza</td>\n",
              "      <td>Bella Suiza, Usaquén, Zona Norte, Bogotá D.C, ...</td>\n",
              "      <td>2 habitaciones3 baños128 m²</td>\n",
              "      <td>970000000</td>\n",
              "    </tr>\n",
              "  </tbody>\n",
              "</table>\n",
              "</div>\n",
              "      <button class=\"colab-df-convert\" onclick=\"convertToInteractive('df-f0736463-95f6-449a-881d-45522d45d919')\"\n",
              "              title=\"Convert this dataframe to an interactive table.\"\n",
              "              style=\"display:none;\">\n",
              "        \n",
              "  <svg xmlns=\"http://www.w3.org/2000/svg\" height=\"24px\"viewBox=\"0 0 24 24\"\n",
              "       width=\"24px\">\n",
              "    <path d=\"M0 0h24v24H0V0z\" fill=\"none\"/>\n",
              "    <path d=\"M18.56 5.44l.94 2.06.94-2.06 2.06-.94-2.06-.94-.94-2.06-.94 2.06-2.06.94zm-11 1L8.5 8.5l.94-2.06 2.06-.94-2.06-.94L8.5 2.5l-.94 2.06-2.06.94zm10 10l.94 2.06.94-2.06 2.06-.94-2.06-.94-.94-2.06-.94 2.06-2.06.94z\"/><path d=\"M17.41 7.96l-1.37-1.37c-.4-.4-.92-.59-1.43-.59-.52 0-1.04.2-1.43.59L10.3 9.45l-7.72 7.72c-.78.78-.78 2.05 0 2.83L4 21.41c.39.39.9.59 1.41.59.51 0 1.02-.2 1.41-.59l7.78-7.78 2.81-2.81c.8-.78.8-2.07 0-2.86zM5.41 20L4 18.59l7.72-7.72 1.47 1.35L5.41 20z\"/>\n",
              "  </svg>\n",
              "      </button>\n",
              "      \n",
              "  <style>\n",
              "    .colab-df-container {\n",
              "      display:flex;\n",
              "      flex-wrap:wrap;\n",
              "      gap: 12px;\n",
              "    }\n",
              "\n",
              "    .colab-df-convert {\n",
              "      background-color: #E8F0FE;\n",
              "      border: none;\n",
              "      border-radius: 50%;\n",
              "      cursor: pointer;\n",
              "      display: none;\n",
              "      fill: #1967D2;\n",
              "      height: 32px;\n",
              "      padding: 0 0 0 0;\n",
              "      width: 32px;\n",
              "    }\n",
              "\n",
              "    .colab-df-convert:hover {\n",
              "      background-color: #E2EBFA;\n",
              "      box-shadow: 0px 1px 2px rgba(60, 64, 67, 0.3), 0px 1px 3px 1px rgba(60, 64, 67, 0.15);\n",
              "      fill: #174EA6;\n",
              "    }\n",
              "\n",
              "    [theme=dark] .colab-df-convert {\n",
              "      background-color: #3B4455;\n",
              "      fill: #D2E3FC;\n",
              "    }\n",
              "\n",
              "    [theme=dark] .colab-df-convert:hover {\n",
              "      background-color: #434B5C;\n",
              "      box-shadow: 0px 1px 3px 1px rgba(0, 0, 0, 0.15);\n",
              "      filter: drop-shadow(0px 1px 2px rgba(0, 0, 0, 0.3));\n",
              "      fill: #FFFFFF;\n",
              "    }\n",
              "  </style>\n",
              "\n",
              "      <script>\n",
              "        const buttonEl =\n",
              "          document.querySelector('#df-f0736463-95f6-449a-881d-45522d45d919 button.colab-df-convert');\n",
              "        buttonEl.style.display =\n",
              "          google.colab.kernel.accessAllowed ? 'block' : 'none';\n",
              "\n",
              "        async function convertToInteractive(key) {\n",
              "          const element = document.querySelector('#df-f0736463-95f6-449a-881d-45522d45d919');\n",
              "          const dataTable =\n",
              "            await google.colab.kernel.invokeFunction('convertToInteractive',\n",
              "                                                     [key], {});\n",
              "          if (!dataTable) return;\n",
              "\n",
              "          const docLinkHtml = 'Like what you see? Visit the ' +\n",
              "            '<a target=\"_blank\" href=https://colab.research.google.com/notebooks/data_table.ipynb>data table notebook</a>'\n",
              "            + ' to learn more about interactive tables.';\n",
              "          element.innerHTML = '';\n",
              "          dataTable['output_type'] = 'display_data';\n",
              "          await google.colab.output.renderOutput(dataTable, element);\n",
              "          const docLink = document.createElement('div');\n",
              "          docLink.innerHTML = docLinkHtml;\n",
              "          element.appendChild(docLink);\n",
              "        }\n",
              "      </script>\n",
              "    </div>\n",
              "  </div>\n",
              "  "
            ]
          },
          "metadata": {},
          "execution_count": 61
        }
      ]
    },
    {
      "cell_type": "code",
      "source": [
        "datos.shape #filas y columnas (el index de cada tupla no entra aca)"
      ],
      "metadata": {
        "colab": {
          "base_uri": "https://localhost:8080/"
        },
        "id": "LaKOilRExOm8",
        "outputId": "37f1e3f4-57b4-410d-e0d0-108bed8541ea"
      },
      "execution_count": 50,
      "outputs": [
        {
          "output_type": "execute_result",
          "data": {
            "text/plain": [
              "(9520, 5)"
            ]
          },
          "metadata": {},
          "execution_count": 50
        }
      ]
    },
    {
      "cell_type": "code",
      "source": [
        "datos.columns ## ver los nombres de las columnas"
      ],
      "metadata": {
        "colab": {
          "base_uri": "https://localhost:8080/"
        },
        "id": "5tbZBVNdyA7A",
        "outputId": "d07a2c67-37ff-48e6-8815-cda1a7538ea8"
      },
      "execution_count": 51,
      "outputs": [
        {
          "output_type": "execute_result",
          "data": {
            "text/plain": [
              "Index(['Tipo', 'Descripcion', 'Localizacion', 'Atributos', 'Valor'], dtype='object')"
            ]
          },
          "metadata": {},
          "execution_count": 51
        }
      ]
    },
    {
      "cell_type": "markdown",
      "source": [
        "4. Podemos crear un diccionario para las columnas"
      ],
      "metadata": {
        "id": "b6L7xkn3ydJW"
      }
    },
    {
      "cell_type": "code",
      "source": [
        "#los diccionarios tiene un conjunto de llave: valor\n",
        "columnas = {'Tipo':'type','Descripcion':'description','Localizacion': 'location','Atributos':'attributes','Valor':'value'}\n",
        "datos = datos.rename(columns=columnas) ##cambio de nombre de las columnas\n",
        "datos.sample(5) # devuelve un numero de filas al azar"
      ],
      "metadata": {
        "colab": {
          "base_uri": "https://localhost:8080/",
          "height": 206
        },
        "id": "dsD48Fp9yLOQ",
        "outputId": "40318946-cc84-47a7-dac0-730a65fe7741"
      },
      "execution_count": 62,
      "outputs": [
        {
          "output_type": "execute_result",
          "data": {
            "text/plain": [
              "             type                             description  \\\n",
              "1546         Casa                   Casa en venta en Suba   \n",
              "4700         Casa         Casa en venta en Barrios Unidos   \n",
              "4572  Apartamento  Apartamento en venta en Barrios Unidos   \n",
              "662   Apartamento   Apartamento en venta en Santa Barbara   \n",
              "2280         Casa                Casa en venta en Usaquén   \n",
              "\n",
              "                                               location  \\\n",
              "1546  Suba, Zona Noroccidental, Bogotá D.C, Cundinam...   \n",
              "4700  Barrios Unidos, Zona Chapinero, Bogotá D.C, Cu...   \n",
              "4572  Barrios Unidos, Zona Chapinero, Bogotá D.C, Cu...   \n",
              "662   Santa Barbara, Usaquén, Zona Norte, Bogotá D.C...   \n",
              "2280      Usaquén, Zona Norte, Bogotá D.C, Cundinamarca   \n",
              "\n",
              "                       attributes       value  \n",
              "1546  4 habitaciones6 baños425 m²  3300000000  \n",
              "4700  3 habitaciones4 baños190 m²   897000000  \n",
              "4572   3 habitaciones2 baños49 m²   100000000  \n",
              "662       1 habitación1 baño45 m²   250000000  \n",
              "2280   2 habitaciones2 baños82 m²   455000000  "
            ],
            "text/html": [
              "\n",
              "  <div id=\"df-d983acec-eb8c-499f-bef1-0ac9a4e43b4c\">\n",
              "    <div class=\"colab-df-container\">\n",
              "      <div>\n",
              "<style scoped>\n",
              "    .dataframe tbody tr th:only-of-type {\n",
              "        vertical-align: middle;\n",
              "    }\n",
              "\n",
              "    .dataframe tbody tr th {\n",
              "        vertical-align: top;\n",
              "    }\n",
              "\n",
              "    .dataframe thead th {\n",
              "        text-align: right;\n",
              "    }\n",
              "</style>\n",
              "<table border=\"1\" class=\"dataframe\">\n",
              "  <thead>\n",
              "    <tr style=\"text-align: right;\">\n",
              "      <th></th>\n",
              "      <th>type</th>\n",
              "      <th>description</th>\n",
              "      <th>location</th>\n",
              "      <th>attributes</th>\n",
              "      <th>value</th>\n",
              "    </tr>\n",
              "  </thead>\n",
              "  <tbody>\n",
              "    <tr>\n",
              "      <th>1546</th>\n",
              "      <td>Casa</td>\n",
              "      <td>Casa en venta en Suba</td>\n",
              "      <td>Suba, Zona Noroccidental, Bogotá D.C, Cundinam...</td>\n",
              "      <td>4 habitaciones6 baños425 m²</td>\n",
              "      <td>3300000000</td>\n",
              "    </tr>\n",
              "    <tr>\n",
              "      <th>4700</th>\n",
              "      <td>Casa</td>\n",
              "      <td>Casa en venta en Barrios Unidos</td>\n",
              "      <td>Barrios Unidos, Zona Chapinero, Bogotá D.C, Cu...</td>\n",
              "      <td>3 habitaciones4 baños190 m²</td>\n",
              "      <td>897000000</td>\n",
              "    </tr>\n",
              "    <tr>\n",
              "      <th>4572</th>\n",
              "      <td>Apartamento</td>\n",
              "      <td>Apartamento en venta en Barrios Unidos</td>\n",
              "      <td>Barrios Unidos, Zona Chapinero, Bogotá D.C, Cu...</td>\n",
              "      <td>3 habitaciones2 baños49 m²</td>\n",
              "      <td>100000000</td>\n",
              "    </tr>\n",
              "    <tr>\n",
              "      <th>662</th>\n",
              "      <td>Apartamento</td>\n",
              "      <td>Apartamento en venta en Santa Barbara</td>\n",
              "      <td>Santa Barbara, Usaquén, Zona Norte, Bogotá D.C...</td>\n",
              "      <td>1 habitación1 baño45 m²</td>\n",
              "      <td>250000000</td>\n",
              "    </tr>\n",
              "    <tr>\n",
              "      <th>2280</th>\n",
              "      <td>Casa</td>\n",
              "      <td>Casa en venta en Usaquén</td>\n",
              "      <td>Usaquén, Zona Norte, Bogotá D.C, Cundinamarca</td>\n",
              "      <td>2 habitaciones2 baños82 m²</td>\n",
              "      <td>455000000</td>\n",
              "    </tr>\n",
              "  </tbody>\n",
              "</table>\n",
              "</div>\n",
              "      <button class=\"colab-df-convert\" onclick=\"convertToInteractive('df-d983acec-eb8c-499f-bef1-0ac9a4e43b4c')\"\n",
              "              title=\"Convert this dataframe to an interactive table.\"\n",
              "              style=\"display:none;\">\n",
              "        \n",
              "  <svg xmlns=\"http://www.w3.org/2000/svg\" height=\"24px\"viewBox=\"0 0 24 24\"\n",
              "       width=\"24px\">\n",
              "    <path d=\"M0 0h24v24H0V0z\" fill=\"none\"/>\n",
              "    <path d=\"M18.56 5.44l.94 2.06.94-2.06 2.06-.94-2.06-.94-.94-2.06-.94 2.06-2.06.94zm-11 1L8.5 8.5l.94-2.06 2.06-.94-2.06-.94L8.5 2.5l-.94 2.06-2.06.94zm10 10l.94 2.06.94-2.06 2.06-.94-2.06-.94-.94-2.06-.94 2.06-2.06.94z\"/><path d=\"M17.41 7.96l-1.37-1.37c-.4-.4-.92-.59-1.43-.59-.52 0-1.04.2-1.43.59L10.3 9.45l-7.72 7.72c-.78.78-.78 2.05 0 2.83L4 21.41c.39.39.9.59 1.41.59.51 0 1.02-.2 1.41-.59l7.78-7.78 2.81-2.81c.8-.78.8-2.07 0-2.86zM5.41 20L4 18.59l7.72-7.72 1.47 1.35L5.41 20z\"/>\n",
              "  </svg>\n",
              "      </button>\n",
              "      \n",
              "  <style>\n",
              "    .colab-df-container {\n",
              "      display:flex;\n",
              "      flex-wrap:wrap;\n",
              "      gap: 12px;\n",
              "    }\n",
              "\n",
              "    .colab-df-convert {\n",
              "      background-color: #E8F0FE;\n",
              "      border: none;\n",
              "      border-radius: 50%;\n",
              "      cursor: pointer;\n",
              "      display: none;\n",
              "      fill: #1967D2;\n",
              "      height: 32px;\n",
              "      padding: 0 0 0 0;\n",
              "      width: 32px;\n",
              "    }\n",
              "\n",
              "    .colab-df-convert:hover {\n",
              "      background-color: #E2EBFA;\n",
              "      box-shadow: 0px 1px 2px rgba(60, 64, 67, 0.3), 0px 1px 3px 1px rgba(60, 64, 67, 0.15);\n",
              "      fill: #174EA6;\n",
              "    }\n",
              "\n",
              "    [theme=dark] .colab-df-convert {\n",
              "      background-color: #3B4455;\n",
              "      fill: #D2E3FC;\n",
              "    }\n",
              "\n",
              "    [theme=dark] .colab-df-convert:hover {\n",
              "      background-color: #434B5C;\n",
              "      box-shadow: 0px 1px 3px 1px rgba(0, 0, 0, 0.15);\n",
              "      filter: drop-shadow(0px 1px 2px rgba(0, 0, 0, 0.3));\n",
              "      fill: #FFFFFF;\n",
              "    }\n",
              "  </style>\n",
              "\n",
              "      <script>\n",
              "        const buttonEl =\n",
              "          document.querySelector('#df-d983acec-eb8c-499f-bef1-0ac9a4e43b4c button.colab-df-convert');\n",
              "        buttonEl.style.display =\n",
              "          google.colab.kernel.accessAllowed ? 'block' : 'none';\n",
              "\n",
              "        async function convertToInteractive(key) {\n",
              "          const element = document.querySelector('#df-d983acec-eb8c-499f-bef1-0ac9a4e43b4c');\n",
              "          const dataTable =\n",
              "            await google.colab.kernel.invokeFunction('convertToInteractive',\n",
              "                                                     [key], {});\n",
              "          if (!dataTable) return;\n",
              "\n",
              "          const docLinkHtml = 'Like what you see? Visit the ' +\n",
              "            '<a target=\"_blank\" href=https://colab.research.google.com/notebooks/data_table.ipynb>data table notebook</a>'\n",
              "            + ' to learn more about interactive tables.';\n",
              "          element.innerHTML = '';\n",
              "          dataTable['output_type'] = 'display_data';\n",
              "          await google.colab.output.renderOutput(dataTable, element);\n",
              "          const docLink = document.createElement('div');\n",
              "          docLink.innerHTML = docLinkHtml;\n",
              "          element.appendChild(docLink);\n",
              "        }\n",
              "      </script>\n",
              "    </div>\n",
              "  </div>\n",
              "  "
            ]
          },
          "metadata": {},
          "execution_count": 62
        }
      ]
    },
    {
      "cell_type": "code",
      "source": [
        "datos.info() # ver la informacion del archivo"
      ],
      "metadata": {
        "colab": {
          "base_uri": "https://localhost:8080/"
        },
        "id": "ZLXP6-oZfH-z",
        "outputId": "24b02846-1704-4036-8972-1aee3702a193"
      },
      "execution_count": 40,
      "outputs": [
        {
          "output_type": "stream",
          "name": "stdout",
          "text": [
            "<class 'pandas.core.frame.DataFrame'>\n",
            "RangeIndex: 9520 entries, 0 to 9519\n",
            "Data columns (total 5 columns):\n",
            " #   Column       Non-Null Count  Dtype \n",
            "---  ------       --------------  ----- \n",
            " 0   type         9520 non-null   object\n",
            " 1   description  9520 non-null   object\n",
            " 2   location     9520 non-null   object\n",
            " 3   attributes   9520 non-null   object\n",
            " 4   value        9520 non-null   object\n",
            "dtypes: object(5)\n",
            "memory usage: 372.0+ KB\n"
          ]
        }
      ]
    },
    {
      "cell_type": "code",
      "source": [
        "datos.iloc[200] # devuelve la informacionde un indice"
      ],
      "metadata": {
        "colab": {
          "base_uri": "https://localhost:8080/"
        },
        "id": "UcUJidxNfjEW",
        "outputId": "c95027f9-13cb-4454-9158-b8fa2799a0f4"
      },
      "execution_count": 41,
      "outputs": [
        {
          "output_type": "execute_result",
          "data": {
            "text/plain": [
              "type                                                 Apartamento\n",
              "description                  Apartamento en venta en El Contador\n",
              "location       El Contador, Usaquén, Zona Norte, Bogotá D.C, ...\n",
              "attributes                       3 habitaciones3 baños90 / 90 m²\n",
              "value                                                460.000.000\n",
              "Name: 200, dtype: object"
            ]
          },
          "metadata": {},
          "execution_count": 41
        }
      ]
    },
    {
      "cell_type": "code",
      "source": [
        "datos.iloc[200:205] #devuelve los datos dentro de un rango\n",
        "#datos['value'].iloc[200]"
      ],
      "metadata": {
        "colab": {
          "base_uri": "https://localhost:8080/",
          "height": 206
        },
        "id": "33C2otUchXHX",
        "outputId": "f863e887-d774-4e52-a682-6e5c3a45a9f7"
      },
      "execution_count": 147,
      "outputs": [
        {
          "output_type": "execute_result",
          "data": {
            "text/plain": [
              "            type                                 description  \\\n",
              "200  Apartamento         Apartamento en venta en El Contador   \n",
              "201  Apartamento            Apartamento en venta en Cedritos   \n",
              "202  Apartamento  Apartamento en venta en Rafael Uribe Uribe   \n",
              "203  Apartamento  Apartamento en venta en Zona Noroccidental   \n",
              "204  Apartamento  Apartamento en venta en Zona Noroccidental   \n",
              "\n",
              "                                              location  \\\n",
              "200  El Contador, Usaquén, Zona Norte, Bogotá D.C, ...   \n",
              "201  Cedritos, Usaquén, Zona Norte, Bogotá D.C, Cun...   \n",
              "202  Rafael Uribe Uribe, Zona Sur, Bogotá D.C, Cund...   \n",
              "203       Zona Noroccidental, Bogotá D.C, Cundinamarca   \n",
              "204       Zona Noroccidental, Bogotá D.C, Cundinamarca   \n",
              "\n",
              "                          attributes      value  \n",
              "200  3 habitaciones3 baños90 / 90 m²  460000000  \n",
              "201        2 habitaciones1 baño52 m²  225000000  \n",
              "202       3 habitaciones2 baños58 m²  200000000  \n",
              "203       2 habitaciones2 baños50 m²  234000000  \n",
              "204       4 habitaciones2 baños73 m²  199000000  "
            ],
            "text/html": [
              "\n",
              "  <div id=\"df-0277b22a-de56-4941-a1b9-478b851d4f10\">\n",
              "    <div class=\"colab-df-container\">\n",
              "      <div>\n",
              "<style scoped>\n",
              "    .dataframe tbody tr th:only-of-type {\n",
              "        vertical-align: middle;\n",
              "    }\n",
              "\n",
              "    .dataframe tbody tr th {\n",
              "        vertical-align: top;\n",
              "    }\n",
              "\n",
              "    .dataframe thead th {\n",
              "        text-align: right;\n",
              "    }\n",
              "</style>\n",
              "<table border=\"1\" class=\"dataframe\">\n",
              "  <thead>\n",
              "    <tr style=\"text-align: right;\">\n",
              "      <th></th>\n",
              "      <th>type</th>\n",
              "      <th>description</th>\n",
              "      <th>location</th>\n",
              "      <th>attributes</th>\n",
              "      <th>value</th>\n",
              "    </tr>\n",
              "  </thead>\n",
              "  <tbody>\n",
              "    <tr>\n",
              "      <th>200</th>\n",
              "      <td>Apartamento</td>\n",
              "      <td>Apartamento en venta en El Contador</td>\n",
              "      <td>El Contador, Usaquén, Zona Norte, Bogotá D.C, ...</td>\n",
              "      <td>3 habitaciones3 baños90 / 90 m²</td>\n",
              "      <td>460000000</td>\n",
              "    </tr>\n",
              "    <tr>\n",
              "      <th>201</th>\n",
              "      <td>Apartamento</td>\n",
              "      <td>Apartamento en venta en Cedritos</td>\n",
              "      <td>Cedritos, Usaquén, Zona Norte, Bogotá D.C, Cun...</td>\n",
              "      <td>2 habitaciones1 baño52 m²</td>\n",
              "      <td>225000000</td>\n",
              "    </tr>\n",
              "    <tr>\n",
              "      <th>202</th>\n",
              "      <td>Apartamento</td>\n",
              "      <td>Apartamento en venta en Rafael Uribe Uribe</td>\n",
              "      <td>Rafael Uribe Uribe, Zona Sur, Bogotá D.C, Cund...</td>\n",
              "      <td>3 habitaciones2 baños58 m²</td>\n",
              "      <td>200000000</td>\n",
              "    </tr>\n",
              "    <tr>\n",
              "      <th>203</th>\n",
              "      <td>Apartamento</td>\n",
              "      <td>Apartamento en venta en Zona Noroccidental</td>\n",
              "      <td>Zona Noroccidental, Bogotá D.C, Cundinamarca</td>\n",
              "      <td>2 habitaciones2 baños50 m²</td>\n",
              "      <td>234000000</td>\n",
              "    </tr>\n",
              "    <tr>\n",
              "      <th>204</th>\n",
              "      <td>Apartamento</td>\n",
              "      <td>Apartamento en venta en Zona Noroccidental</td>\n",
              "      <td>Zona Noroccidental, Bogotá D.C, Cundinamarca</td>\n",
              "      <td>4 habitaciones2 baños73 m²</td>\n",
              "      <td>199000000</td>\n",
              "    </tr>\n",
              "  </tbody>\n",
              "</table>\n",
              "</div>\n",
              "      <button class=\"colab-df-convert\" onclick=\"convertToInteractive('df-0277b22a-de56-4941-a1b9-478b851d4f10')\"\n",
              "              title=\"Convert this dataframe to an interactive table.\"\n",
              "              style=\"display:none;\">\n",
              "        \n",
              "  <svg xmlns=\"http://www.w3.org/2000/svg\" height=\"24px\"viewBox=\"0 0 24 24\"\n",
              "       width=\"24px\">\n",
              "    <path d=\"M0 0h24v24H0V0z\" fill=\"none\"/>\n",
              "    <path d=\"M18.56 5.44l.94 2.06.94-2.06 2.06-.94-2.06-.94-.94-2.06-.94 2.06-2.06.94zm-11 1L8.5 8.5l.94-2.06 2.06-.94-2.06-.94L8.5 2.5l-.94 2.06-2.06.94zm10 10l.94 2.06.94-2.06 2.06-.94-2.06-.94-.94-2.06-.94 2.06-2.06.94z\"/><path d=\"M17.41 7.96l-1.37-1.37c-.4-.4-.92-.59-1.43-.59-.52 0-1.04.2-1.43.59L10.3 9.45l-7.72 7.72c-.78.78-.78 2.05 0 2.83L4 21.41c.39.39.9.59 1.41.59.51 0 1.02-.2 1.41-.59l7.78-7.78 2.81-2.81c.8-.78.8-2.07 0-2.86zM5.41 20L4 18.59l7.72-7.72 1.47 1.35L5.41 20z\"/>\n",
              "  </svg>\n",
              "      </button>\n",
              "      \n",
              "  <style>\n",
              "    .colab-df-container {\n",
              "      display:flex;\n",
              "      flex-wrap:wrap;\n",
              "      gap: 12px;\n",
              "    }\n",
              "\n",
              "    .colab-df-convert {\n",
              "      background-color: #E8F0FE;\n",
              "      border: none;\n",
              "      border-radius: 50%;\n",
              "      cursor: pointer;\n",
              "      display: none;\n",
              "      fill: #1967D2;\n",
              "      height: 32px;\n",
              "      padding: 0 0 0 0;\n",
              "      width: 32px;\n",
              "    }\n",
              "\n",
              "    .colab-df-convert:hover {\n",
              "      background-color: #E2EBFA;\n",
              "      box-shadow: 0px 1px 2px rgba(60, 64, 67, 0.3), 0px 1px 3px 1px rgba(60, 64, 67, 0.15);\n",
              "      fill: #174EA6;\n",
              "    }\n",
              "\n",
              "    [theme=dark] .colab-df-convert {\n",
              "      background-color: #3B4455;\n",
              "      fill: #D2E3FC;\n",
              "    }\n",
              "\n",
              "    [theme=dark] .colab-df-convert:hover {\n",
              "      background-color: #434B5C;\n",
              "      box-shadow: 0px 1px 3px 1px rgba(0, 0, 0, 0.15);\n",
              "      filter: drop-shadow(0px 1px 2px rgba(0, 0, 0, 0.3));\n",
              "      fill: #FFFFFF;\n",
              "    }\n",
              "  </style>\n",
              "\n",
              "      <script>\n",
              "        const buttonEl =\n",
              "          document.querySelector('#df-0277b22a-de56-4941-a1b9-478b851d4f10 button.colab-df-convert');\n",
              "        buttonEl.style.display =\n",
              "          google.colab.kernel.accessAllowed ? 'block' : 'none';\n",
              "\n",
              "        async function convertToInteractive(key) {\n",
              "          const element = document.querySelector('#df-0277b22a-de56-4941-a1b9-478b851d4f10');\n",
              "          const dataTable =\n",
              "            await google.colab.kernel.invokeFunction('convertToInteractive',\n",
              "                                                     [key], {});\n",
              "          if (!dataTable) return;\n",
              "\n",
              "          const docLinkHtml = 'Like what you see? Visit the ' +\n",
              "            '<a target=\"_blank\" href=https://colab.research.google.com/notebooks/data_table.ipynb>data table notebook</a>'\n",
              "            + ' to learn more about interactive tables.';\n",
              "          element.innerHTML = '';\n",
              "          dataTable['output_type'] = 'display_data';\n",
              "          await google.colab.output.renderOutput(dataTable, element);\n",
              "          const docLink = document.createElement('div');\n",
              "          docLink.innerHTML = docLinkHtml;\n",
              "          element.appendChild(docLink);\n",
              "        }\n",
              "      </script>\n",
              "    </div>\n",
              "  </div>\n",
              "  "
            ]
          },
          "metadata": {},
          "execution_count": 147
        }
      ]
    },
    {
      "cell_type": "code",
      "source": [
        "# hacer un rango de datos  con bucle for\n",
        "for i in range(200, 205):\n",
        "    print(datos['description'][i] + ' | ' + datos['value'][(i)])"
      ],
      "metadata": {
        "colab": {
          "base_uri": "https://localhost:8080/"
        },
        "id": "cOzYCvSNhiw-",
        "outputId": "c4c1ea80-f03b-439a-c607-948704584f36"
      },
      "execution_count": 54,
      "outputs": [
        {
          "output_type": "stream",
          "name": "stdout",
          "text": [
            "Apartamento en venta en El Contador | $$ 460.000.000\n",
            "Apartamento en venta en Cedritos | $$ 225.000.000\n",
            "Apartamento en venta en Rafael Uribe Uribe | $$ 200.000.000\n",
            "Apartamento en venta en Zona Noroccidental | $$ 234.000.000\n",
            "Apartamento en venta en Zona Noroccidental | $$ 199.000.000\n"
          ]
        }
      ]
    },
    {
      "cell_type": "code",
      "source": [
        "# promedio del costo de los inmuebles\n",
        "datos.columns"
      ],
      "metadata": {
        "colab": {
          "base_uri": "https://localhost:8080/"
        },
        "id": "Dd7aSQOQkpIC",
        "outputId": "2d35656a-77c5-43d8-d166-fe9e17c47113"
      },
      "execution_count": 55,
      "outputs": [
        {
          "output_type": "execute_result",
          "data": {
            "text/plain": [
              "Index(['type', 'description', 'location', 'attributes', 'value'], dtype='object')"
            ]
          },
          "metadata": {},
          "execution_count": 55
        }
      ]
    },
    {
      "cell_type": "code",
      "source": [
        "import statistics\n",
        "datos.value.mean()"
      ],
      "metadata": {
        "colab": {
          "base_uri": "https://localhost:8080/"
        },
        "id": "6atphJgFnfJh",
        "outputId": "3d4f92ae-fe50-4932-d2b1-1f6d5bd84555"
      },
      "execution_count": 63,
      "outputs": [
        {
          "output_type": "execute_result",
          "data": {
            "text/plain": [
              "602062353.527626"
            ]
          },
          "metadata": {},
          "execution_count": 63
        }
      ]
    },
    {
      "cell_type": "code",
      "source": [
        "datos.sample(100)"
      ],
      "metadata": {
        "colab": {
          "base_uri": "https://localhost:8080/",
          "height": 424
        },
        "id": "7iJQ4k_GvTb5",
        "outputId": "caccd896-5270-46ec-9091-b4d04ed723b7"
      },
      "execution_count": 64,
      "outputs": [
        {
          "output_type": "execute_result",
          "data": {
            "text/plain": [
              "             type                             description  \\\n",
              "9203         Casa         Casa en venta en Ciudad Bolívar   \n",
              "5699  Apartamento     Apartamento en venta en Chico Norte   \n",
              "4306  Apartamento  Apartamento en venta en Barrios Unidos   \n",
              "2888  Apartamento            Apartamento en venta en Bosa   \n",
              "6644  Apartamento         Apartamento en venta en Mazuren   \n",
              "...           ...                                     ...   \n",
              "921   Apartamento      Apartamento en venta en Cantagallo   \n",
              "5970  Apartamento   Apartamento en venta en Santa Barbara   \n",
              "9285  Apartamento         Apartamento en venta en Kennedy   \n",
              "6691         Casa     Casa en venta en Zona Noroccidental   \n",
              "2983  Apartamento   Apartamento en venta en Santa Barbara   \n",
              "\n",
              "                                               location  \\\n",
              "9203  Ciudad Bolívar, Zona Sur, Bogotá D.C, Cundinam...   \n",
              "5699  Chico Norte, Chapinero, Zona Chapinero, Bogotá...   \n",
              "4306  Barrios Unidos, Zona Chapinero, Bogotá D.C, Cu...   \n",
              "2888  Bosa, Zona Suroccidental, Bogotá D.C, Cundinam...   \n",
              "6644  Mazuren, Suba, Zona Noroccidental, Bogotá D.C,...   \n",
              "...                                                 ...   \n",
              "921   Cantagallo, Suba, Zona Noroccidental, Bogotá D...   \n",
              "5970  Santa Barbara, Usaquén, Zona Norte, Bogotá D.C...   \n",
              "9285  Kennedy, Zona Suroccidental, Bogotá D.C, Cundi...   \n",
              "6691       Zona Noroccidental, Bogotá D.C, Cundinamarca   \n",
              "2983  Santa Barbara, Usaquén, Zona Norte, Bogotá D.C...   \n",
              "\n",
              "                             attributes       value  \n",
              "9203        5 habitaciones5 baños144 m²   265000000  \n",
              "5699  3 habitaciones3 baños186 / 186 m²  1800000000  \n",
              "4306         3 habitaciones2 baños72 m²   380000000  \n",
              "2888          3 habitaciones1 baño56 m²   150000000  \n",
              "6644         3 habitaciones3 baños92 m²   372000000  \n",
              "...                                 ...         ...  \n",
              "921     3 habitaciones2 baños65 / 65 m²   350000000  \n",
              "5970        3 habitaciones4 baños180 m²   720000000  \n",
              "9285         3 habitaciones2 baños63 m²   285000000  \n",
              "6691        4 habitaciones4 baños240 m²  1050000000  \n",
              "2983        3 habitaciones3 baños152 m²  1070000000  \n",
              "\n",
              "[100 rows x 5 columns]"
            ],
            "text/html": [
              "\n",
              "  <div id=\"df-aebd9897-02e5-4c27-abcb-df9003f19488\">\n",
              "    <div class=\"colab-df-container\">\n",
              "      <div>\n",
              "<style scoped>\n",
              "    .dataframe tbody tr th:only-of-type {\n",
              "        vertical-align: middle;\n",
              "    }\n",
              "\n",
              "    .dataframe tbody tr th {\n",
              "        vertical-align: top;\n",
              "    }\n",
              "\n",
              "    .dataframe thead th {\n",
              "        text-align: right;\n",
              "    }\n",
              "</style>\n",
              "<table border=\"1\" class=\"dataframe\">\n",
              "  <thead>\n",
              "    <tr style=\"text-align: right;\">\n",
              "      <th></th>\n",
              "      <th>type</th>\n",
              "      <th>description</th>\n",
              "      <th>location</th>\n",
              "      <th>attributes</th>\n",
              "      <th>value</th>\n",
              "    </tr>\n",
              "  </thead>\n",
              "  <tbody>\n",
              "    <tr>\n",
              "      <th>9203</th>\n",
              "      <td>Casa</td>\n",
              "      <td>Casa en venta en Ciudad Bolívar</td>\n",
              "      <td>Ciudad Bolívar, Zona Sur, Bogotá D.C, Cundinam...</td>\n",
              "      <td>5 habitaciones5 baños144 m²</td>\n",
              "      <td>265000000</td>\n",
              "    </tr>\n",
              "    <tr>\n",
              "      <th>5699</th>\n",
              "      <td>Apartamento</td>\n",
              "      <td>Apartamento en venta en Chico Norte</td>\n",
              "      <td>Chico Norte, Chapinero, Zona Chapinero, Bogotá...</td>\n",
              "      <td>3 habitaciones3 baños186 / 186 m²</td>\n",
              "      <td>1800000000</td>\n",
              "    </tr>\n",
              "    <tr>\n",
              "      <th>4306</th>\n",
              "      <td>Apartamento</td>\n",
              "      <td>Apartamento en venta en Barrios Unidos</td>\n",
              "      <td>Barrios Unidos, Zona Chapinero, Bogotá D.C, Cu...</td>\n",
              "      <td>3 habitaciones2 baños72 m²</td>\n",
              "      <td>380000000</td>\n",
              "    </tr>\n",
              "    <tr>\n",
              "      <th>2888</th>\n",
              "      <td>Apartamento</td>\n",
              "      <td>Apartamento en venta en Bosa</td>\n",
              "      <td>Bosa, Zona Suroccidental, Bogotá D.C, Cundinam...</td>\n",
              "      <td>3 habitaciones1 baño56 m²</td>\n",
              "      <td>150000000</td>\n",
              "    </tr>\n",
              "    <tr>\n",
              "      <th>6644</th>\n",
              "      <td>Apartamento</td>\n",
              "      <td>Apartamento en venta en Mazuren</td>\n",
              "      <td>Mazuren, Suba, Zona Noroccidental, Bogotá D.C,...</td>\n",
              "      <td>3 habitaciones3 baños92 m²</td>\n",
              "      <td>372000000</td>\n",
              "    </tr>\n",
              "    <tr>\n",
              "      <th>...</th>\n",
              "      <td>...</td>\n",
              "      <td>...</td>\n",
              "      <td>...</td>\n",
              "      <td>...</td>\n",
              "      <td>...</td>\n",
              "    </tr>\n",
              "    <tr>\n",
              "      <th>921</th>\n",
              "      <td>Apartamento</td>\n",
              "      <td>Apartamento en venta en Cantagallo</td>\n",
              "      <td>Cantagallo, Suba, Zona Noroccidental, Bogotá D...</td>\n",
              "      <td>3 habitaciones2 baños65 / 65 m²</td>\n",
              "      <td>350000000</td>\n",
              "    </tr>\n",
              "    <tr>\n",
              "      <th>5970</th>\n",
              "      <td>Apartamento</td>\n",
              "      <td>Apartamento en venta en Santa Barbara</td>\n",
              "      <td>Santa Barbara, Usaquén, Zona Norte, Bogotá D.C...</td>\n",
              "      <td>3 habitaciones4 baños180 m²</td>\n",
              "      <td>720000000</td>\n",
              "    </tr>\n",
              "    <tr>\n",
              "      <th>9285</th>\n",
              "      <td>Apartamento</td>\n",
              "      <td>Apartamento en venta en Kennedy</td>\n",
              "      <td>Kennedy, Zona Suroccidental, Bogotá D.C, Cundi...</td>\n",
              "      <td>3 habitaciones2 baños63 m²</td>\n",
              "      <td>285000000</td>\n",
              "    </tr>\n",
              "    <tr>\n",
              "      <th>6691</th>\n",
              "      <td>Casa</td>\n",
              "      <td>Casa en venta en Zona Noroccidental</td>\n",
              "      <td>Zona Noroccidental, Bogotá D.C, Cundinamarca</td>\n",
              "      <td>4 habitaciones4 baños240 m²</td>\n",
              "      <td>1050000000</td>\n",
              "    </tr>\n",
              "    <tr>\n",
              "      <th>2983</th>\n",
              "      <td>Apartamento</td>\n",
              "      <td>Apartamento en venta en Santa Barbara</td>\n",
              "      <td>Santa Barbara, Usaquén, Zona Norte, Bogotá D.C...</td>\n",
              "      <td>3 habitaciones3 baños152 m²</td>\n",
              "      <td>1070000000</td>\n",
              "    </tr>\n",
              "  </tbody>\n",
              "</table>\n",
              "<p>100 rows × 5 columns</p>\n",
              "</div>\n",
              "      <button class=\"colab-df-convert\" onclick=\"convertToInteractive('df-aebd9897-02e5-4c27-abcb-df9003f19488')\"\n",
              "              title=\"Convert this dataframe to an interactive table.\"\n",
              "              style=\"display:none;\">\n",
              "        \n",
              "  <svg xmlns=\"http://www.w3.org/2000/svg\" height=\"24px\"viewBox=\"0 0 24 24\"\n",
              "       width=\"24px\">\n",
              "    <path d=\"M0 0h24v24H0V0z\" fill=\"none\"/>\n",
              "    <path d=\"M18.56 5.44l.94 2.06.94-2.06 2.06-.94-2.06-.94-.94-2.06-.94 2.06-2.06.94zm-11 1L8.5 8.5l.94-2.06 2.06-.94-2.06-.94L8.5 2.5l-.94 2.06-2.06.94zm10 10l.94 2.06.94-2.06 2.06-.94-2.06-.94-.94-2.06-.94 2.06-2.06.94z\"/><path d=\"M17.41 7.96l-1.37-1.37c-.4-.4-.92-.59-1.43-.59-.52 0-1.04.2-1.43.59L10.3 9.45l-7.72 7.72c-.78.78-.78 2.05 0 2.83L4 21.41c.39.39.9.59 1.41.59.51 0 1.02-.2 1.41-.59l7.78-7.78 2.81-2.81c.8-.78.8-2.07 0-2.86zM5.41 20L4 18.59l7.72-7.72 1.47 1.35L5.41 20z\"/>\n",
              "  </svg>\n",
              "      </button>\n",
              "      \n",
              "  <style>\n",
              "    .colab-df-container {\n",
              "      display:flex;\n",
              "      flex-wrap:wrap;\n",
              "      gap: 12px;\n",
              "    }\n",
              "\n",
              "    .colab-df-convert {\n",
              "      background-color: #E8F0FE;\n",
              "      border: none;\n",
              "      border-radius: 50%;\n",
              "      cursor: pointer;\n",
              "      display: none;\n",
              "      fill: #1967D2;\n",
              "      height: 32px;\n",
              "      padding: 0 0 0 0;\n",
              "      width: 32px;\n",
              "    }\n",
              "\n",
              "    .colab-df-convert:hover {\n",
              "      background-color: #E2EBFA;\n",
              "      box-shadow: 0px 1px 2px rgba(60, 64, 67, 0.3), 0px 1px 3px 1px rgba(60, 64, 67, 0.15);\n",
              "      fill: #174EA6;\n",
              "    }\n",
              "\n",
              "    [theme=dark] .colab-df-convert {\n",
              "      background-color: #3B4455;\n",
              "      fill: #D2E3FC;\n",
              "    }\n",
              "\n",
              "    [theme=dark] .colab-df-convert:hover {\n",
              "      background-color: #434B5C;\n",
              "      box-shadow: 0px 1px 3px 1px rgba(0, 0, 0, 0.15);\n",
              "      filter: drop-shadow(0px 1px 2px rgba(0, 0, 0, 0.3));\n",
              "      fill: #FFFFFF;\n",
              "    }\n",
              "  </style>\n",
              "\n",
              "      <script>\n",
              "        const buttonEl =\n",
              "          document.querySelector('#df-aebd9897-02e5-4c27-abcb-df9003f19488 button.colab-df-convert');\n",
              "        buttonEl.style.display =\n",
              "          google.colab.kernel.accessAllowed ? 'block' : 'none';\n",
              "\n",
              "        async function convertToInteractive(key) {\n",
              "          const element = document.querySelector('#df-aebd9897-02e5-4c27-abcb-df9003f19488');\n",
              "          const dataTable =\n",
              "            await google.colab.kernel.invokeFunction('convertToInteractive',\n",
              "                                                     [key], {});\n",
              "          if (!dataTable) return;\n",
              "\n",
              "          const docLinkHtml = 'Like what you see? Visit the ' +\n",
              "            '<a target=\"_blank\" href=https://colab.research.google.com/notebooks/data_table.ipynb>data table notebook</a>'\n",
              "            + ' to learn more about interactive tables.';\n",
              "          element.innerHTML = '';\n",
              "          dataTable['output_type'] = 'display_data';\n",
              "          await google.colab.output.renderOutput(dataTable, element);\n",
              "          const docLink = document.createElement('div');\n",
              "          docLink.innerHTML = docLinkHtml;\n",
              "          element.appendChild(docLink);\n",
              "        }\n",
              "      </script>\n",
              "    </div>\n",
              "  </div>\n",
              "  "
            ]
          },
          "metadata": {},
          "execution_count": 64
        }
      ]
    },
    {
      "cell_type": "code",
      "source": [
        "# ver el valor maximo y minimo de un inmueble\n",
        "max = datos['value'].max()\n",
        "min = datos['value'].min()\n",
        "print(\"El valor maximo de un inmueble es: $ \" + str(max))\n",
        "print(\"El valor minimo de un inmueble es: $ \" + str(min))"
      ],
      "metadata": {
        "colab": {
          "base_uri": "https://localhost:8080/"
        },
        "id": "ra1qldUOvlg3",
        "outputId": "d3fe1307-6ea4-46f0-fb65-d2a05e343d16"
      },
      "execution_count": 93,
      "outputs": [
        {
          "output_type": "stream",
          "name": "stdout",
          "text": [
            "El valor maximo de un inmueble es: $16000000000\n",
            "El valor minimo de un inmueble es: $60000000\n"
          ]
        }
      ]
    },
    {
      "cell_type": "code",
      "source": [
        "#contar el numero de inmuebles de esta localizacion\n",
        "sum((datos.location == 'Zona Noroccidental, Bogotá D.C, Cundinamarca'))"
      ],
      "metadata": {
        "colab": {
          "base_uri": "https://localhost:8080/"
        },
        "id": "FEhLfmhIvqhC",
        "outputId": "5f877a87-fa20-4ca2-f723-15baf55b7a48"
      },
      "execution_count": 76,
      "outputs": [
        {
          "output_type": "execute_result",
          "data": {
            "text/plain": [
              "877"
            ]
          },
          "metadata": {},
          "execution_count": 76
        }
      ]
    },
    {
      "cell_type": "code",
      "source": [
        "inmuebles_santa_barbara = (datos.location == 'Santa Barbara, Usaquén, Zona Norte, Bogotá D.C, Cundinamarca')"
      ],
      "metadata": {
        "id": "bleUixS7zJBP"
      },
      "execution_count": 85,
      "outputs": []
    },
    {
      "cell_type": "code",
      "source": [
        "# inmuebles que se encunetran dentro de la localizacion exacte de santa barbara ...\n",
        "resultados_santa_barbara = datos[inmuebles_santa_barbara]\n",
        "resultados_santa_barbara "
      ],
      "metadata": {
        "colab": {
          "base_uri": "https://localhost:8080/",
          "height": 424
        },
        "id": "n53XPNwiz9U_",
        "outputId": "2cbd9b92-6ef0-4de8-dec4-a21e1c1cbbe2"
      },
      "execution_count": 86,
      "outputs": [
        {
          "output_type": "execute_result",
          "data": {
            "text/plain": [
              "             type                            description  \\\n",
              "46    Apartamento  Apartamento en venta en Santa Barbara   \n",
              "75    Apartamento  Apartamento en venta en Santa Barbara   \n",
              "99    Apartamento  Apartamento en venta en Santa Barbara   \n",
              "108   Apartamento  Apartamento en venta en Santa Barbara   \n",
              "117   Apartamento  Apartamento en venta en Santa Barbara   \n",
              "...           ...                                    ...   \n",
              "9350  Apartamento  Apartamento en venta en Santa Barbara   \n",
              "9356  Apartamento  Apartamento en venta en Santa Barbara   \n",
              "9397  Apartamento  Apartamento en venta en Santa Barbara   \n",
              "9419  Apartamento  Apartamento en venta en Santa Barbara   \n",
              "9441  Apartamento  Apartamento en venta en Santa Barbara   \n",
              "\n",
              "                                               location  \\\n",
              "46    Santa Barbara, Usaquén, Zona Norte, Bogotá D.C...   \n",
              "75    Santa Barbara, Usaquén, Zona Norte, Bogotá D.C...   \n",
              "99    Santa Barbara, Usaquén, Zona Norte, Bogotá D.C...   \n",
              "108   Santa Barbara, Usaquén, Zona Norte, Bogotá D.C...   \n",
              "117   Santa Barbara, Usaquén, Zona Norte, Bogotá D.C...   \n",
              "...                                                 ...   \n",
              "9350  Santa Barbara, Usaquén, Zona Norte, Bogotá D.C...   \n",
              "9356  Santa Barbara, Usaquén, Zona Norte, Bogotá D.C...   \n",
              "9397  Santa Barbara, Usaquén, Zona Norte, Bogotá D.C...   \n",
              "9419  Santa Barbara, Usaquén, Zona Norte, Bogotá D.C...   \n",
              "9441  Santa Barbara, Usaquén, Zona Norte, Bogotá D.C...   \n",
              "\n",
              "                             attributes       value  \n",
              "46           3 habitaciones1 baño101 m²   565000000  \n",
              "75           3 habitaciones1 baño101 m²   565000000  \n",
              "99    3 habitaciones3 baños114 / 114 m²   510000000  \n",
              "108       1 habitación2 baños69 / 69 m²   425000000  \n",
              "117     2 habitaciones3 baños85 / 85 m²   519000000  \n",
              "...                                 ...         ...  \n",
              "9350         2 habitaciones2 baños70 m²   460000000  \n",
              "9356       1 habitación1 baño51 / 51 m²   330000000  \n",
              "9397         3 habitaciones3 baños93 m²   700000000  \n",
              "9419        3 habitaciones3 baños155 m²   700000000  \n",
              "9441  4 habitaciones5 baños380 / 380 m²  1350000000  \n",
              "\n",
              "[438 rows x 5 columns]"
            ],
            "text/html": [
              "\n",
              "  <div id=\"df-08f1dcd9-6272-4caa-abf3-dea0943301dc\">\n",
              "    <div class=\"colab-df-container\">\n",
              "      <div>\n",
              "<style scoped>\n",
              "    .dataframe tbody tr th:only-of-type {\n",
              "        vertical-align: middle;\n",
              "    }\n",
              "\n",
              "    .dataframe tbody tr th {\n",
              "        vertical-align: top;\n",
              "    }\n",
              "\n",
              "    .dataframe thead th {\n",
              "        text-align: right;\n",
              "    }\n",
              "</style>\n",
              "<table border=\"1\" class=\"dataframe\">\n",
              "  <thead>\n",
              "    <tr style=\"text-align: right;\">\n",
              "      <th></th>\n",
              "      <th>type</th>\n",
              "      <th>description</th>\n",
              "      <th>location</th>\n",
              "      <th>attributes</th>\n",
              "      <th>value</th>\n",
              "    </tr>\n",
              "  </thead>\n",
              "  <tbody>\n",
              "    <tr>\n",
              "      <th>46</th>\n",
              "      <td>Apartamento</td>\n",
              "      <td>Apartamento en venta en Santa Barbara</td>\n",
              "      <td>Santa Barbara, Usaquén, Zona Norte, Bogotá D.C...</td>\n",
              "      <td>3 habitaciones1 baño101 m²</td>\n",
              "      <td>565000000</td>\n",
              "    </tr>\n",
              "    <tr>\n",
              "      <th>75</th>\n",
              "      <td>Apartamento</td>\n",
              "      <td>Apartamento en venta en Santa Barbara</td>\n",
              "      <td>Santa Barbara, Usaquén, Zona Norte, Bogotá D.C...</td>\n",
              "      <td>3 habitaciones1 baño101 m²</td>\n",
              "      <td>565000000</td>\n",
              "    </tr>\n",
              "    <tr>\n",
              "      <th>99</th>\n",
              "      <td>Apartamento</td>\n",
              "      <td>Apartamento en venta en Santa Barbara</td>\n",
              "      <td>Santa Barbara, Usaquén, Zona Norte, Bogotá D.C...</td>\n",
              "      <td>3 habitaciones3 baños114 / 114 m²</td>\n",
              "      <td>510000000</td>\n",
              "    </tr>\n",
              "    <tr>\n",
              "      <th>108</th>\n",
              "      <td>Apartamento</td>\n",
              "      <td>Apartamento en venta en Santa Barbara</td>\n",
              "      <td>Santa Barbara, Usaquén, Zona Norte, Bogotá D.C...</td>\n",
              "      <td>1 habitación2 baños69 / 69 m²</td>\n",
              "      <td>425000000</td>\n",
              "    </tr>\n",
              "    <tr>\n",
              "      <th>117</th>\n",
              "      <td>Apartamento</td>\n",
              "      <td>Apartamento en venta en Santa Barbara</td>\n",
              "      <td>Santa Barbara, Usaquén, Zona Norte, Bogotá D.C...</td>\n",
              "      <td>2 habitaciones3 baños85 / 85 m²</td>\n",
              "      <td>519000000</td>\n",
              "    </tr>\n",
              "    <tr>\n",
              "      <th>...</th>\n",
              "      <td>...</td>\n",
              "      <td>...</td>\n",
              "      <td>...</td>\n",
              "      <td>...</td>\n",
              "      <td>...</td>\n",
              "    </tr>\n",
              "    <tr>\n",
              "      <th>9350</th>\n",
              "      <td>Apartamento</td>\n",
              "      <td>Apartamento en venta en Santa Barbara</td>\n",
              "      <td>Santa Barbara, Usaquén, Zona Norte, Bogotá D.C...</td>\n",
              "      <td>2 habitaciones2 baños70 m²</td>\n",
              "      <td>460000000</td>\n",
              "    </tr>\n",
              "    <tr>\n",
              "      <th>9356</th>\n",
              "      <td>Apartamento</td>\n",
              "      <td>Apartamento en venta en Santa Barbara</td>\n",
              "      <td>Santa Barbara, Usaquén, Zona Norte, Bogotá D.C...</td>\n",
              "      <td>1 habitación1 baño51 / 51 m²</td>\n",
              "      <td>330000000</td>\n",
              "    </tr>\n",
              "    <tr>\n",
              "      <th>9397</th>\n",
              "      <td>Apartamento</td>\n",
              "      <td>Apartamento en venta en Santa Barbara</td>\n",
              "      <td>Santa Barbara, Usaquén, Zona Norte, Bogotá D.C...</td>\n",
              "      <td>3 habitaciones3 baños93 m²</td>\n",
              "      <td>700000000</td>\n",
              "    </tr>\n",
              "    <tr>\n",
              "      <th>9419</th>\n",
              "      <td>Apartamento</td>\n",
              "      <td>Apartamento en venta en Santa Barbara</td>\n",
              "      <td>Santa Barbara, Usaquén, Zona Norte, Bogotá D.C...</td>\n",
              "      <td>3 habitaciones3 baños155 m²</td>\n",
              "      <td>700000000</td>\n",
              "    </tr>\n",
              "    <tr>\n",
              "      <th>9441</th>\n",
              "      <td>Apartamento</td>\n",
              "      <td>Apartamento en venta en Santa Barbara</td>\n",
              "      <td>Santa Barbara, Usaquén, Zona Norte, Bogotá D.C...</td>\n",
              "      <td>4 habitaciones5 baños380 / 380 m²</td>\n",
              "      <td>1350000000</td>\n",
              "    </tr>\n",
              "  </tbody>\n",
              "</table>\n",
              "<p>438 rows × 5 columns</p>\n",
              "</div>\n",
              "      <button class=\"colab-df-convert\" onclick=\"convertToInteractive('df-08f1dcd9-6272-4caa-abf3-dea0943301dc')\"\n",
              "              title=\"Convert this dataframe to an interactive table.\"\n",
              "              style=\"display:none;\">\n",
              "        \n",
              "  <svg xmlns=\"http://www.w3.org/2000/svg\" height=\"24px\"viewBox=\"0 0 24 24\"\n",
              "       width=\"24px\">\n",
              "    <path d=\"M0 0h24v24H0V0z\" fill=\"none\"/>\n",
              "    <path d=\"M18.56 5.44l.94 2.06.94-2.06 2.06-.94-2.06-.94-.94-2.06-.94 2.06-2.06.94zm-11 1L8.5 8.5l.94-2.06 2.06-.94-2.06-.94L8.5 2.5l-.94 2.06-2.06.94zm10 10l.94 2.06.94-2.06 2.06-.94-2.06-.94-.94-2.06-.94 2.06-2.06.94z\"/><path d=\"M17.41 7.96l-1.37-1.37c-.4-.4-.92-.59-1.43-.59-.52 0-1.04.2-1.43.59L10.3 9.45l-7.72 7.72c-.78.78-.78 2.05 0 2.83L4 21.41c.39.39.9.59 1.41.59.51 0 1.02-.2 1.41-.59l7.78-7.78 2.81-2.81c.8-.78.8-2.07 0-2.86zM5.41 20L4 18.59l7.72-7.72 1.47 1.35L5.41 20z\"/>\n",
              "  </svg>\n",
              "      </button>\n",
              "      \n",
              "  <style>\n",
              "    .colab-df-container {\n",
              "      display:flex;\n",
              "      flex-wrap:wrap;\n",
              "      gap: 12px;\n",
              "    }\n",
              "\n",
              "    .colab-df-convert {\n",
              "      background-color: #E8F0FE;\n",
              "      border: none;\n",
              "      border-radius: 50%;\n",
              "      cursor: pointer;\n",
              "      display: none;\n",
              "      fill: #1967D2;\n",
              "      height: 32px;\n",
              "      padding: 0 0 0 0;\n",
              "      width: 32px;\n",
              "    }\n",
              "\n",
              "    .colab-df-convert:hover {\n",
              "      background-color: #E2EBFA;\n",
              "      box-shadow: 0px 1px 2px rgba(60, 64, 67, 0.3), 0px 1px 3px 1px rgba(60, 64, 67, 0.15);\n",
              "      fill: #174EA6;\n",
              "    }\n",
              "\n",
              "    [theme=dark] .colab-df-convert {\n",
              "      background-color: #3B4455;\n",
              "      fill: #D2E3FC;\n",
              "    }\n",
              "\n",
              "    [theme=dark] .colab-df-convert:hover {\n",
              "      background-color: #434B5C;\n",
              "      box-shadow: 0px 1px 3px 1px rgba(0, 0, 0, 0.15);\n",
              "      filter: drop-shadow(0px 1px 2px rgba(0, 0, 0, 0.3));\n",
              "      fill: #FFFFFF;\n",
              "    }\n",
              "  </style>\n",
              "\n",
              "      <script>\n",
              "        const buttonEl =\n",
              "          document.querySelector('#df-08f1dcd9-6272-4caa-abf3-dea0943301dc button.colab-df-convert');\n",
              "        buttonEl.style.display =\n",
              "          google.colab.kernel.accessAllowed ? 'block' : 'none';\n",
              "\n",
              "        async function convertToInteractive(key) {\n",
              "          const element = document.querySelector('#df-08f1dcd9-6272-4caa-abf3-dea0943301dc');\n",
              "          const dataTable =\n",
              "            await google.colab.kernel.invokeFunction('convertToInteractive',\n",
              "                                                     [key], {});\n",
              "          if (!dataTable) return;\n",
              "\n",
              "          const docLinkHtml = 'Like what you see? Visit the ' +\n",
              "            '<a target=\"_blank\" href=https://colab.research.google.com/notebooks/data_table.ipynb>data table notebook</a>'\n",
              "            + ' to learn more about interactive tables.';\n",
              "          element.innerHTML = '';\n",
              "          dataTable['output_type'] = 'display_data';\n",
              "          await google.colab.output.renderOutput(dataTable, element);\n",
              "          const docLink = document.createElement('div');\n",
              "          docLink.innerHTML = docLinkHtml;\n",
              "          element.appendChild(docLink);\n",
              "        }\n",
              "      </script>\n",
              "    </div>\n",
              "  </div>\n",
              "  "
            ]
          },
          "metadata": {},
          "execution_count": 86
        }
      ]
    },
    {
      "cell_type": "code",
      "source": [
        "descripciones_inmuebles = datos.description.value_counts() # contar el numero de veces que aparecen las descripciones\n",
        "localizacion_inmuebles = datos.location.value_counts() # contar el numero de veces que aparecen las localizaciones\n",
        "atributos_inmuebles = datos.attributes.value_counts() # contar el numero de veces que aparecen los atributos"
      ],
      "metadata": {
        "id": "1KzW0KZw12Yb"
      },
      "execution_count": 96,
      "outputs": []
    },
    {
      "cell_type": "code",
      "source": [
        "descripciones_inmuebles"
      ],
      "metadata": {
        "colab": {
          "base_uri": "https://localhost:8080/"
        },
        "id": "2qkt9TaT2R7z",
        "outputId": "c19aef0b-ea98-4bc7-aa30-4e5d4714ca15"
      },
      "execution_count": 98,
      "outputs": [
        {
          "output_type": "execute_result",
          "data": {
            "text/plain": [
              "Apartamento en venta en Usaquén               916\n",
              "Apartamento en venta en Zona Noroccidental    634\n",
              "Apartamento en venta en Cedritos              501\n",
              "Apartamento en venta en Bosa                  499\n",
              "Apartamento en venta en Kennedy               392\n",
              "                                             ... \n",
              "Edificio en venta en Santa Barbara              1\n",
              "Local en venta en Chico Reservado               1\n",
              "Casa en venta en Timiza                         1\n",
              "Edificio en venta en Barrios Unidos             1\n",
              "Local en venta en Las Delicias                  1\n",
              "Name: description, Length: 316, dtype: int64"
            ]
          },
          "metadata": {},
          "execution_count": 98
        }
      ]
    },
    {
      "cell_type": "code",
      "source": [
        "len(descripciones_inmuebles) # tamaño total de las descripciones"
      ],
      "metadata": {
        "colab": {
          "base_uri": "https://localhost:8080/"
        },
        "id": "qVkOJ2OQ3mVy",
        "outputId": "39b7c220-9e3a-4470-f0bc-f364327c2c1f"
      },
      "execution_count": 101,
      "outputs": [
        {
          "output_type": "execute_result",
          "data": {
            "text/plain": [
              "316"
            ]
          },
          "metadata": {},
          "execution_count": 101
        }
      ]
    },
    {
      "cell_type": "code",
      "source": [
        "localizacion_inmuebles"
      ],
      "metadata": {
        "colab": {
          "base_uri": "https://localhost:8080/"
        },
        "id": "CJFucxFe205W",
        "outputId": "6531f1fd-51e8-405c-d5f6-5564a760c845"
      },
      "execution_count": 99,
      "outputs": [
        {
          "output_type": "execute_result",
          "data": {
            "text/plain": [
              "Usaquén, Zona Norte, Bogotá D.C, Cundinamarca                          1105\n",
              "Zona Noroccidental, Bogotá D.C, Cundinamarca                            877\n",
              "Bosa, Zona Suroccidental, Bogotá D.C, Cundinamarca                      589\n",
              "Kennedy, Zona Suroccidental, Bogotá D.C, Cundinamarca                   589\n",
              "Cedritos, Usaquén, Zona Norte, Bogotá D.C, Cundinamarca                 554\n",
              "                                                                       ... \n",
              "Colinas De Suba, Suba, Zona Noroccidental, Bogotá D.C, Cundinamarca       1\n",
              "La Estanzuela, Suba, Zona Noroccidental, Bogotá D.C, Cundinamarca         1\n",
              "Roma, Bosa, Zona Suroccidental, Bogotá D.C, Cundinamarca                  1\n",
              "Alameda, Los Mártires, Zona Centro, Bogotá D.C, Cundinamarca              1\n",
              "Prado Veraniego, Suba, Zona Noroccidental, Bogotá D.C, Cundinamarca       1\n",
              "Name: location, Length: 149, dtype: int64"
            ]
          },
          "metadata": {},
          "execution_count": 99
        }
      ]
    },
    {
      "cell_type": "code",
      "source": [
        "len(localizacion_inmuebles)"
      ],
      "metadata": {
        "colab": {
          "base_uri": "https://localhost:8080/"
        },
        "id": "9AcQA7Xv3zOl",
        "outputId": "43a367fb-1475-4b87-dc78-84a568e7c09f"
      },
      "execution_count": 102,
      "outputs": [
        {
          "output_type": "execute_result",
          "data": {
            "text/plain": [
              "149"
            ]
          },
          "metadata": {},
          "execution_count": 102
        }
      ]
    },
    {
      "cell_type": "code",
      "source": [
        "atributos_inmuebles"
      ],
      "metadata": {
        "colab": {
          "base_uri": "https://localhost:8080/"
        },
        "id": "nyBQaxDh23mP",
        "outputId": "26877ee4-02dd-4147-bb72-034dec808f09"
      },
      "execution_count": 100,
      "outputs": [
        {
          "output_type": "execute_result",
          "data": {
            "text/plain": [
              "3 habitaciones1 baño47 m²            187\n",
              "3 habitaciones1 baño48 m²             74\n",
              "3 habitaciones2 baños70 m²            58\n",
              "3 habitaciones2 baños62 m²            51\n",
              "3 habitaciones2 baños64 m²            51\n",
              "                                    ... \n",
              "2 habitaciones2 baños68 / 65 m²        1\n",
              "4 habitaciones3 baños149 m²            1\n",
              "5 habitaciones4 baños176 m²            1\n",
              "3 habitaciones3 baños120 / 102 m²      1\n",
              "3 habitaciones2 baños183 m²            1\n",
              "Name: attributes, Length: 2753, dtype: int64"
            ]
          },
          "metadata": {},
          "execution_count": 100
        }
      ]
    },
    {
      "cell_type": "code",
      "source": [
        "len(atributos_inmuebles)"
      ],
      "metadata": {
        "colab": {
          "base_uri": "https://localhost:8080/"
        },
        "id": "sxYmtKz133Qd",
        "outputId": "9fcb761b-c71b-4323-c4a0-04f34efa98ff"
      },
      "execution_count": 103,
      "outputs": [
        {
          "output_type": "execute_result",
          "data": {
            "text/plain": [
              "2753"
            ]
          },
          "metadata": {},
          "execution_count": 103
        }
      ]
    },
    {
      "cell_type": "code",
      "source": [
        "tipo = 'Casa'\n",
        "tipo_inmueble = sum((datos['type'] == tipo)) # contar los inmuebles de algun tipo\n",
        "print(\"Hay un total de \" + str(tipo_inmueble) + \" inmuebles de tipo \" + tipo)"
      ],
      "metadata": {
        "colab": {
          "base_uri": "https://localhost:8080/"
        },
        "id": "wGVXCjFk4H6j",
        "outputId": "badc2217-44ec-4258-ee62-7c00f1b78e16"
      },
      "execution_count": 169,
      "outputs": [
        {
          "output_type": "stream",
          "name": "stdout",
          "text": [
            "Hay un total de 2043 inmuebles de tipo Casa\n"
          ]
        }
      ]
    },
    {
      "cell_type": "markdown",
      "source": [
        "# Generando graficos para mis datos\n",
        "\n"
      ],
      "metadata": {
        "id": "wEFO5sqb6hzx"
      }
    },
    {
      "cell_type": "code",
      "source": [
        "inmuebles = datos.type.value_counts() # contar el tipo de inmuebles que hay\n",
        "inmuebles.plot.bar(); # generando grafico de barras"
      ],
      "metadata": {
        "colab": {
          "base_uri": "https://localhost:8080/",
          "height": 350
        },
        "id": "j_KDAHNW6MHR",
        "outputId": "a2055ee0-3228-4ffa-b220-8bca093aef58"
      },
      "execution_count": 126,
      "outputs": [
        {
          "output_type": "display_data",
          "data": {
            "text/plain": [
              "<Figure size 432x288 with 1 Axes>"
            ],
            "image/png": "[encoded data removed]"
          },
          "metadata": {
            "needs_background": "light"
          }
        }
      ]
    },
    {
      "cell_type": "code",
      "source": [
        "descripciones_inmuebles.head(10).plot.barh()"
      ],
      "metadata": {
        "colab": {
          "base_uri": "https://localhost:8080/",
          "height": 282
        },
        "id": "qRx1VUfe78XC",
        "outputId": "930ccca1-aad3-44cb-fa1f-b9d40e6e8d9d"
      },
      "execution_count": 132,
      "outputs": [
        {
          "output_type": "execute_result",
          "data": {
            "text/plain": [
              "<Axes: >"
            ]
          },
          "metadata": {},
          "execution_count": 132
        },
        {
          "output_type": "display_data",
          "data": {
            "text/plain": [
              "<Figure size 432x288 with 1 Axes>"
            ],
            "image/png": "[encoded data removed]"
          },
          "metadata": {
            "needs_background": "light"
          }
        }
      ]
    },
    {
      "cell_type": "code",
      "source": [
        "inmuebles.tail(3).plot.pie() # tipos de inmuebles para menos venta"
      ],
      "metadata": {
        "colab": {
          "base_uri": "https://localhost:8080/",
          "height": 265
        },
        "id": "hl1TEYzS9GOO",
        "outputId": "ec9f4ed9-bd68-4390-deae-613c1afcfec4"
      },
      "execution_count": 142,
      "outputs": [
        {
          "output_type": "execute_result",
          "data": {
            "text/plain": [
              "<Axes: ylabel='type'>"
            ]
          },
          "metadata": {},
          "execution_count": 142
        },
        {
          "output_type": "display_data",
          "data": {
            "text/plain": [
              "<Figure size 432x288 with 1 Axes>"
            ],
            "image/png": "[encoded data removed]"
          },
          "metadata": {}
        }
      ]
    },
    {
      "cell_type": "markdown",
      "source": [
        "**Desafio**\n",
        "Calcular la media, mediana y moda"
      ],
      "metadata": {
        "id": "Al0O4JAEGPGY"
      }
    },
    {
      "cell_type": "code",
      "source": [
        "import statistics\n",
        "datos_ordenados = sorted(datos['value'])\n",
        "mediana = statistics.median(datos_ordenados)\n",
        "media =  statistics.mean(datos_ordenados)\n",
        "moda = statistics.mode(datos_ordenados)\n",
        "\n",
        "print('Media: ' + str(media))\n",
        "print('Mediana: ' + str(mediana))\n",
        "print('Moda: ' + str(moda))"
      ],
      "metadata": {
        "colab": {
          "base_uri": "https://localhost:8080/"
        },
        "id": "ZPV9I2bfBuMB",
        "outputId": "b394b791-0c45-47dc-b1a2-9a315ca54fc6"
      },
      "execution_count": 165,
      "outputs": [
        {
          "output_type": "stream",
          "name": "stdout",
          "text": [
            "Media: 602062353.527626\n",
            "Mediana: 409182500.0\n",
            "Moda: 450000000\n"
          ]
        }
      ]
    },
    {
      "cell_type": "code",
      "source": [
        "# traer el inmueble de un tipo con el valor max y min\n",
        "ver_tipo = \"Bodega\"\n",
        "obtener = datos['type'] == ver_tipo\n",
        "res = datos[obtener] # traer resultados de un inmueble\n",
        "sum(res.value_counts()) ## obtener valor del tipo de inmueble\n",
        "valor_min = res.min()\n",
        "valor_max = res.max()\n",
        "print('Valor minimo de tipo ' + ver_tipo)\n",
        "print(valor_min)\n",
        "print('')\n",
        "print('Valor maximo de tipo ' + ver_tipo)\n",
        "print(valor_max)"
      ],
      "metadata": {
        "colab": {
          "base_uri": "https://localhost:8080/"
        },
        "id": "BO2D4_9LH5SE",
        "outputId": "d991e287-0502-4b83-bfdc-2f1a46bc2afa"
      },
      "execution_count": 181,
      "outputs": [
        {
          "output_type": "stream",
          "name": "stdout",
          "text": [
            "Valor minimo de tipo Bodega\n",
            "type                                                      Bodega\n",
            "description                           Bodega en venta en Bochica\n",
            "location       Bochica, Suba, Zona Noroccidental, Bogotá D.C,...\n",
            "attributes                      1 habitación4 baños1200 / 450 m²\n",
            "value                                                  120000000\n",
            "dtype: object\n",
            "\n",
            "Valor maximo de tipo Bodega\n",
            "type                                                      Bodega\n",
            "description                      Bodega en venta en San Patricio\n",
            "location       San Patricio, Usaquén, Zona Norte, Bogotá D.C,...\n",
            "attributes                           5 habitaciones2 baños158 m²\n",
            "value                                                 2800000000\n",
            "dtype: object\n"
          ]
        }
      ]
    }
  ]
}